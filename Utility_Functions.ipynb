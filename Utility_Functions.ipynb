{
  "nbformat": 4,
  "nbformat_minor": 0,
  "metadata": {
    "colab": {
      "name": "Utility Functions",
      "provenance": [],
      "collapsed_sections": [],
      "authorship_tag": "ABX9TyPHBLeX1Cq+oXyQhR0YUsQh",
      "include_colab_link": true
    },
    "kernelspec": {
      "name": "python3",
      "display_name": "Python 3"
    }
  },
  "cells": [
    {
      "cell_type": "markdown",
      "metadata": {
        "id": "view-in-github",
        "colab_type": "text"
      },
      "source": [
        "<a href=\"https://colab.research.google.com/github/TobyChen320/DS-Unit-3-Sprint-1-Software-Engineering/blob/master/Utility_Functions.ipynb\" target=\"_parent\"><img src=\"https://colab.research.google.com/assets/colab-badge.svg\" alt=\"Open In Colab\"/></a>"
      ]
    },
    {
      "cell_type": "code",
      "metadata": {
        "id": "snsMAUk8m1hg",
        "colab_type": "code",
        "colab": {}
      },
      "source": [
        "import numpy as np\n",
        "import pandas as pd\n",
        "\n",
        "\n",
        "def train_val_test_split(df):\n",
        "    \"\"\"Summary Line.\n",
        "\n",
        "    Extended description of function.\n",
        "\n",
        "    Args:\n",
        "      arg1: Function will split the data set into train=80, val=10, test=10. Note that this is a random split only.\n",
        "\n",
        "    Returns:\n",
        "      Will return a data set split 3 ways randomly with 80% being in train data set, 10% for val, and 10% in test.\n",
        "    \"\"\"\n",
        "    train, val, test = np.split(\n",
        "        df.sample(frac=1), [int(.8 * len(df)), int(.9 * len(df))])\n",
        "    return train, val, test\n",
        "\n",
        "\n",
        "def remove_outliers(df):\n",
        "    \"\"\"Summary Line.\n",
        "\n",
        "    Extended description of function.\n",
        "\n",
        "    Args:\n",
        "      arg1: Function will remove 1.5 IQR outliers from data set.\n",
        "\n",
        "    Returns:\n",
        "      Will return a data set with outliers within the 1.5 IQR range removed.\n",
        "    \"\"\"\n",
        "    q1 = df.quantile(0.25)\n",
        "    q3 = df.quantile(0.75)\n",
        "    iqr = q3 - q1\n",
        "    df = df[~((df < (q1 - 1.5 * iqr)) | (df > (q3 + 1.5 * iqr))).any(axis=1)]\n",
        "    return df"
      ],
      "execution_count": 9,
      "outputs": []
    },
    {
      "cell_type": "code",
      "metadata": {
        "id": "jSAshwJbv_Zv",
        "colab_type": "code",
        "colab": {
          "base_uri": "https://localhost:8080/",
          "height": 51
        },
        "outputId": "6e5630ca-1a92-458d-cb3c-84cf6dc9c9b9"
      },
      "source": [
        "class Shoe():\n",
        "    def __init__(self, color, size, style=None):\n",
        "        self.color = color\n",
        "        self.size = size\n",
        "        self.style = style\n",
        "\n",
        "if __name__ == \"__main__\":\n",
        "    shoe1 = Shoe(color=\"Black\", size=\"11\")\n",
        "    print(shoe1.color)\n",
        "    print(shoe1.size)"
      ],
      "execution_count": 10,
      "outputs": [
        {
          "output_type": "stream",
          "text": [
            "Black\n",
            "11\n"
          ],
          "name": "stdout"
        }
      ]
    },
    {
      "cell_type": "code",
      "metadata": {
        "id": "7ZBezEZ1HJwE",
        "colab_type": "code",
        "colab": {
          "base_uri": "https://localhost:8080/",
          "height": 34
        },
        "outputId": "7afa61c5-76cb-4532-eb50-ec99a574ae2a"
      },
      "source": [
        "np.random.seed(33454)\n",
        "df = pd.DataFrame({'a': np.random.randint(1, 200, 20), \n",
        "                          'b': np.random.randint(1, 200, 20),\n",
        "                          'c': np.random.randint(1, 200, 20)})\n",
        "\n",
        "df[df > 150] *= 10\n",
        "df.shape"
      ],
      "execution_count": 19,
      "outputs": [
        {
          "output_type": "execute_result",
          "data": {
            "text/plain": [
              "(20, 3)"
            ]
          },
          "metadata": {
            "tags": []
          },
          "execution_count": 19
        }
      ]
    },
    {
      "cell_type": "code",
      "metadata": {
        "id": "BRNkUQA1IAF2",
        "colab_type": "code",
        "colab": {
          "base_uri": "https://localhost:8080/",
          "height": 34
        },
        "outputId": "1efe1bfa-3f84-4d91-ae3f-5e3e0e60d166"
      },
      "source": [
        "df2 = remove_outliers(df)\n",
        "df2.shape"
      ],
      "execution_count": 24,
      "outputs": [
        {
          "output_type": "execute_result",
          "data": {
            "text/plain": [
              "(13, 3)"
            ]
          },
          "metadata": {
            "tags": []
          },
          "execution_count": 24
        }
      ]
    },
    {
      "cell_type": "code",
      "metadata": {
        "id": "fb6mdVGC-0kw",
        "colab_type": "code",
        "colab": {
          "base_uri": "https://localhost:8080/",
          "height": 354
        },
        "outputId": "baaef073-409f-4502-9f1f-38ee52cebb5c"
      },
      "source": [
        "import pandas as pd\n",
        "np.random.seed([3,1415])\n",
        "df3 = pd.DataFrame(np.random.rand(10, 5), columns=list('ABCDE'))\n",
        "df3"
      ],
      "execution_count": 15,
      "outputs": [
        {
          "output_type": "execute_result",
          "data": {
            "text/html": [
              "<div>\n",
              "<style scoped>\n",
              "    .dataframe tbody tr th:only-of-type {\n",
              "        vertical-align: middle;\n",
              "    }\n",
              "\n",
              "    .dataframe tbody tr th {\n",
              "        vertical-align: top;\n",
              "    }\n",
              "\n",
              "    .dataframe thead th {\n",
              "        text-align: right;\n",
              "    }\n",
              "</style>\n",
              "<table border=\"1\" class=\"dataframe\">\n",
              "  <thead>\n",
              "    <tr style=\"text-align: right;\">\n",
              "      <th></th>\n",
              "      <th>A</th>\n",
              "      <th>B</th>\n",
              "      <th>C</th>\n",
              "      <th>D</th>\n",
              "      <th>E</th>\n",
              "    </tr>\n",
              "  </thead>\n",
              "  <tbody>\n",
              "    <tr>\n",
              "      <th>0</th>\n",
              "      <td>0.444939</td>\n",
              "      <td>0.407554</td>\n",
              "      <td>0.460148</td>\n",
              "      <td>0.465239</td>\n",
              "      <td>0.462691</td>\n",
              "    </tr>\n",
              "    <tr>\n",
              "      <th>1</th>\n",
              "      <td>0.016545</td>\n",
              "      <td>0.850445</td>\n",
              "      <td>0.817744</td>\n",
              "      <td>0.777962</td>\n",
              "      <td>0.757983</td>\n",
              "    </tr>\n",
              "    <tr>\n",
              "      <th>2</th>\n",
              "      <td>0.934829</td>\n",
              "      <td>0.831104</td>\n",
              "      <td>0.879891</td>\n",
              "      <td>0.926879</td>\n",
              "      <td>0.721535</td>\n",
              "    </tr>\n",
              "    <tr>\n",
              "      <th>3</th>\n",
              "      <td>0.117642</td>\n",
              "      <td>0.145906</td>\n",
              "      <td>0.199844</td>\n",
              "      <td>0.437564</td>\n",
              "      <td>0.100702</td>\n",
              "    </tr>\n",
              "    <tr>\n",
              "      <th>4</th>\n",
              "      <td>0.278735</td>\n",
              "      <td>0.609862</td>\n",
              "      <td>0.085823</td>\n",
              "      <td>0.836997</td>\n",
              "      <td>0.739635</td>\n",
              "    </tr>\n",
              "    <tr>\n",
              "      <th>5</th>\n",
              "      <td>0.866059</td>\n",
              "      <td>0.691271</td>\n",
              "      <td>0.377185</td>\n",
              "      <td>0.225146</td>\n",
              "      <td>0.435280</td>\n",
              "    </tr>\n",
              "    <tr>\n",
              "      <th>6</th>\n",
              "      <td>0.700900</td>\n",
              "      <td>0.700946</td>\n",
              "      <td>0.796487</td>\n",
              "      <td>0.018688</td>\n",
              "      <td>0.700566</td>\n",
              "    </tr>\n",
              "    <tr>\n",
              "      <th>7</th>\n",
              "      <td>0.900749</td>\n",
              "      <td>0.764869</td>\n",
              "      <td>0.253200</td>\n",
              "      <td>0.548054</td>\n",
              "      <td>0.778883</td>\n",
              "    </tr>\n",
              "    <tr>\n",
              "      <th>8</th>\n",
              "      <td>0.651676</td>\n",
              "      <td>0.136097</td>\n",
              "      <td>0.544838</td>\n",
              "      <td>0.035073</td>\n",
              "      <td>0.275079</td>\n",
              "    </tr>\n",
              "    <tr>\n",
              "      <th>9</th>\n",
              "      <td>0.706685</td>\n",
              "      <td>0.713614</td>\n",
              "      <td>0.776050</td>\n",
              "      <td>0.542329</td>\n",
              "      <td>0.836541</td>\n",
              "    </tr>\n",
              "  </tbody>\n",
              "</table>\n",
              "</div>"
            ],
            "text/plain": [
              "          A         B         C         D         E\n",
              "0  0.444939  0.407554  0.460148  0.465239  0.462691\n",
              "1  0.016545  0.850445  0.817744  0.777962  0.757983\n",
              "2  0.934829  0.831104  0.879891  0.926879  0.721535\n",
              "3  0.117642  0.145906  0.199844  0.437564  0.100702\n",
              "4  0.278735  0.609862  0.085823  0.836997  0.739635\n",
              "5  0.866059  0.691271  0.377185  0.225146  0.435280\n",
              "6  0.700900  0.700946  0.796487  0.018688  0.700566\n",
              "7  0.900749  0.764869  0.253200  0.548054  0.778883\n",
              "8  0.651676  0.136097  0.544838  0.035073  0.275079\n",
              "9  0.706685  0.713614  0.776050  0.542329  0.836541"
            ]
          },
          "metadata": {
            "tags": []
          },
          "execution_count": 15
        }
      ]
    },
    {
      "cell_type": "code",
      "metadata": {
        "id": "RTv6FAcM_I3J",
        "colab_type": "code",
        "colab": {
          "base_uri": "https://localhost:8080/",
          "height": 293
        },
        "outputId": "8c929e54-4c5a-4227-fe15-c6061de920fe"
      },
      "source": [
        "train, val, test = train_val_test_split(df)\n",
        "\n",
        "train"
      ],
      "execution_count": 16,
      "outputs": [
        {
          "output_type": "execute_result",
          "data": {
            "text/html": [
              "<div>\n",
              "<style scoped>\n",
              "    .dataframe tbody tr th:only-of-type {\n",
              "        vertical-align: middle;\n",
              "    }\n",
              "\n",
              "    .dataframe tbody tr th {\n",
              "        vertical-align: top;\n",
              "    }\n",
              "\n",
              "    .dataframe thead th {\n",
              "        text-align: right;\n",
              "    }\n",
              "</style>\n",
              "<table border=\"1\" class=\"dataframe\">\n",
              "  <thead>\n",
              "    <tr style=\"text-align: right;\">\n",
              "      <th></th>\n",
              "      <th>A</th>\n",
              "      <th>B</th>\n",
              "      <th>C</th>\n",
              "      <th>D</th>\n",
              "      <th>E</th>\n",
              "    </tr>\n",
              "  </thead>\n",
              "  <tbody>\n",
              "    <tr>\n",
              "      <th>9</th>\n",
              "      <td>0.706685</td>\n",
              "      <td>0.713614</td>\n",
              "      <td>0.776050</td>\n",
              "      <td>0.542329</td>\n",
              "      <td>0.836541</td>\n",
              "    </tr>\n",
              "    <tr>\n",
              "      <th>5</th>\n",
              "      <td>0.866059</td>\n",
              "      <td>0.691271</td>\n",
              "      <td>0.377185</td>\n",
              "      <td>0.225146</td>\n",
              "      <td>0.435280</td>\n",
              "    </tr>\n",
              "    <tr>\n",
              "      <th>1</th>\n",
              "      <td>0.016545</td>\n",
              "      <td>0.850445</td>\n",
              "      <td>0.817744</td>\n",
              "      <td>0.777962</td>\n",
              "      <td>0.757983</td>\n",
              "    </tr>\n",
              "    <tr>\n",
              "      <th>8</th>\n",
              "      <td>0.651676</td>\n",
              "      <td>0.136097</td>\n",
              "      <td>0.544838</td>\n",
              "      <td>0.035073</td>\n",
              "      <td>0.275079</td>\n",
              "    </tr>\n",
              "    <tr>\n",
              "      <th>7</th>\n",
              "      <td>0.900749</td>\n",
              "      <td>0.764869</td>\n",
              "      <td>0.253200</td>\n",
              "      <td>0.548054</td>\n",
              "      <td>0.778883</td>\n",
              "    </tr>\n",
              "    <tr>\n",
              "      <th>0</th>\n",
              "      <td>0.444939</td>\n",
              "      <td>0.407554</td>\n",
              "      <td>0.460148</td>\n",
              "      <td>0.465239</td>\n",
              "      <td>0.462691</td>\n",
              "    </tr>\n",
              "    <tr>\n",
              "      <th>3</th>\n",
              "      <td>0.117642</td>\n",
              "      <td>0.145906</td>\n",
              "      <td>0.199844</td>\n",
              "      <td>0.437564</td>\n",
              "      <td>0.100702</td>\n",
              "    </tr>\n",
              "    <tr>\n",
              "      <th>6</th>\n",
              "      <td>0.700900</td>\n",
              "      <td>0.700946</td>\n",
              "      <td>0.796487</td>\n",
              "      <td>0.018688</td>\n",
              "      <td>0.700566</td>\n",
              "    </tr>\n",
              "  </tbody>\n",
              "</table>\n",
              "</div>"
            ],
            "text/plain": [
              "          A         B         C         D         E\n",
              "9  0.706685  0.713614  0.776050  0.542329  0.836541\n",
              "5  0.866059  0.691271  0.377185  0.225146  0.435280\n",
              "1  0.016545  0.850445  0.817744  0.777962  0.757983\n",
              "8  0.651676  0.136097  0.544838  0.035073  0.275079\n",
              "7  0.900749  0.764869  0.253200  0.548054  0.778883\n",
              "0  0.444939  0.407554  0.460148  0.465239  0.462691\n",
              "3  0.117642  0.145906  0.199844  0.437564  0.100702\n",
              "6  0.700900  0.700946  0.796487  0.018688  0.700566"
            ]
          },
          "metadata": {
            "tags": []
          },
          "execution_count": 16
        }
      ]
    },
    {
      "cell_type": "code",
      "metadata": {
        "id": "aX7pMtt5_htR",
        "colab_type": "code",
        "colab": {
          "base_uri": "https://localhost:8080/",
          "height": 79
        },
        "outputId": "a12349a6-ac43-4e20-b7b3-13f6a32e5b97"
      },
      "source": [
        "val"
      ],
      "execution_count": 17,
      "outputs": [
        {
          "output_type": "execute_result",
          "data": {
            "text/html": [
              "<div>\n",
              "<style scoped>\n",
              "    .dataframe tbody tr th:only-of-type {\n",
              "        vertical-align: middle;\n",
              "    }\n",
              "\n",
              "    .dataframe tbody tr th {\n",
              "        vertical-align: top;\n",
              "    }\n",
              "\n",
              "    .dataframe thead th {\n",
              "        text-align: right;\n",
              "    }\n",
              "</style>\n",
              "<table border=\"1\" class=\"dataframe\">\n",
              "  <thead>\n",
              "    <tr style=\"text-align: right;\">\n",
              "      <th></th>\n",
              "      <th>A</th>\n",
              "      <th>B</th>\n",
              "      <th>C</th>\n",
              "      <th>D</th>\n",
              "      <th>E</th>\n",
              "    </tr>\n",
              "  </thead>\n",
              "  <tbody>\n",
              "    <tr>\n",
              "      <th>4</th>\n",
              "      <td>0.278735</td>\n",
              "      <td>0.609862</td>\n",
              "      <td>0.085823</td>\n",
              "      <td>0.836997</td>\n",
              "      <td>0.739635</td>\n",
              "    </tr>\n",
              "  </tbody>\n",
              "</table>\n",
              "</div>"
            ],
            "text/plain": [
              "          A         B         C         D         E\n",
              "4  0.278735  0.609862  0.085823  0.836997  0.739635"
            ]
          },
          "metadata": {
            "tags": []
          },
          "execution_count": 17
        }
      ]
    },
    {
      "cell_type": "code",
      "metadata": {
        "id": "tpK0cYsa_lSS",
        "colab_type": "code",
        "colab": {
          "base_uri": "https://localhost:8080/",
          "height": 79
        },
        "outputId": "79fd2330-48d3-4e32-d021-117c17ec9428"
      },
      "source": [
        "test"
      ],
      "execution_count": 18,
      "outputs": [
        {
          "output_type": "execute_result",
          "data": {
            "text/html": [
              "<div>\n",
              "<style scoped>\n",
              "    .dataframe tbody tr th:only-of-type {\n",
              "        vertical-align: middle;\n",
              "    }\n",
              "\n",
              "    .dataframe tbody tr th {\n",
              "        vertical-align: top;\n",
              "    }\n",
              "\n",
              "    .dataframe thead th {\n",
              "        text-align: right;\n",
              "    }\n",
              "</style>\n",
              "<table border=\"1\" class=\"dataframe\">\n",
              "  <thead>\n",
              "    <tr style=\"text-align: right;\">\n",
              "      <th></th>\n",
              "      <th>A</th>\n",
              "      <th>B</th>\n",
              "      <th>C</th>\n",
              "      <th>D</th>\n",
              "      <th>E</th>\n",
              "    </tr>\n",
              "  </thead>\n",
              "  <tbody>\n",
              "    <tr>\n",
              "      <th>2</th>\n",
              "      <td>0.934829</td>\n",
              "      <td>0.831104</td>\n",
              "      <td>0.879891</td>\n",
              "      <td>0.926879</td>\n",
              "      <td>0.721535</td>\n",
              "    </tr>\n",
              "  </tbody>\n",
              "</table>\n",
              "</div>"
            ],
            "text/plain": [
              "          A         B         C         D         E\n",
              "2  0.934829  0.831104  0.879891  0.926879  0.721535"
            ]
          },
          "metadata": {
            "tags": []
          },
          "execution_count": 18
        }
      ]
    }
  ]
}